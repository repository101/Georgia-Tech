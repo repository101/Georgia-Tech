{
 "cells": [
  {
   "cell_type": "code",
   "execution_count": 8,
   "id": "bearing-kansas",
   "metadata": {},
   "outputs": [],
   "source": [
    "import cv2\n",
    "import numpy as np\n",
    "import time\n",
    "import os"
   ]
  },
  {
   "cell_type": "code",
   "execution_count": 11,
   "id": "superb-orange",
   "metadata": {},
   "outputs": [],
   "source": [
    "image = cv2.imread(f\"{os.getcwd()}/ps3-2-e_base.jpg\")"
   ]
  },
  {
   "cell_type": "code",
   "execution_count": 21,
   "id": "focused-emerald",
   "metadata": {},
   "outputs": [],
   "source": [
    "def find_circles(grayscale, other_img=None, is_noisy=False):\n",
    "    if other_img is None:\n",
    "        if is_noisy:\n",
    "            edges = cv2.Canny(grayscale, 60, 430, None, 3)\n",
    "            circles = cv2.HoughCircles(edges, cv2.HOUGH_GRADIENT, dp=0.1, minDist=100, param1=20, param2=5,\n",
    "                                       minRadius=20, maxRadius=100)\n",
    "            return circles\n",
    "        \n",
    "        else:\n",
    "            edges = cv2.Canny(grayscale, 107, 960, None, 3)\n",
    "            circles = cv2.HoughCircles(edges, cv2.HOUGH_GRADIENT, dp=1, minDist=100, param1=20, param2=20,\n",
    "                                       minRadius=20, maxRadius=100)\n",
    "            return circles\n",
    "    else:\n",
    "        temp_gray = cv2.cvtColor(other_img, cv2.COLOR_BGR2GRAY)\n",
    "        temp_img = np.copy(other_img)\n",
    "        best_distance = np.inf\n",
    "        known_cords = np.asarray([[54, 205],\n",
    "                                  [101, 574],\n",
    "                                  [943, 199],\n",
    "                                  [902, 578]])\n",
    "        val = 0\n",
    "        for pt in known_cords:\n",
    "            temp_val = np.nanmin(np.sqrt((pt[0] - known_cords[:, 0])**2 + (pt[1] - known_cords[:, 1])**2))\n",
    "            val += temp_val\n",
    "\n",
    "        best_possible = 8582.725648816971\n",
    "        best_vals = None\n",
    "        start_time = time.time()\n",
    "        for canny_thresh_1 in range(10, 1000, 10):\n",
    "            for canny_thresh_2 in range(10, 1000, 10):\n",
    "                edges = cv2.Canny(temp_gray, canny_thresh_1, canny_thresh_2, None, 3)\n",
    "                circles = cv2.HoughCircles(edges, cv2.HOUGH_GRADIENT, dp=1.0, minDist=100, param1=20,\n",
    "                                           param2=20,\n",
    "                                           minRadius=20, maxRadius=100)\n",
    "                if circles is not None:\n",
    "                    if len(circles[0]) > 0:\n",
    "                        total_dist = 0\n",
    "                        if len(circles[0]) == 4:\n",
    "                            for pt in known_cords:\n",
    "                                temp_val = np.nanmin(\n",
    "                                    np.sqrt((pt[0] - circles[0][:, 0]) ** 2 + (pt[1] - circles[0][:, 1]) ** 2))\n",
    "                                total_dist += temp_val\n",
    "                            if np.round(total_dist, 4) < best_distance:\n",
    "                                best_distance = np.round(total_dist, 4)\n",
    "                                best_vals = {\"DP\": 1.0, \"MinDist\": 100, \"MinRadius\": 20,\n",
    "                                             \"MaxRadius\": 100, \"Param 1\": 20, \"Param 2\": 20,\n",
    "                                             \"CannyThreshold 1\": canny_thresh_1, \"CannyThreshold 2\": canny_thresh_2\n",
    "                                             }\n",
    "                                print(f\"\\n\\t Best Distance: {best_distance}\")\n",
    "                                print(f\"\\n\\tBest Parameters: \\n\\t{best_vals}\")\n",
    "        end_time = time.time()\n",
    "        elapsed_time = end_time - start_time\n",
    "        print(f\"\\n\\tTotal Elapsed Time: {elapsed_time:.3f}s\")     \n"
   ]
  },
  {
   "cell_type": "code",
   "execution_count": null,
   "id": "wanted-shark",
   "metadata": {},
   "outputs": [],
   "source": [
    "is_color = False\n",
    "is_noisy = False\n",
    "if len(image.shape) > 2:\n",
    "    if image.shape[2] == 3:\n",
    "        is_color = True\n",
    "        unedited_img = np.copy(image)\n",
    "        temp_img = cv2.cvtColor(image, cv2.COLOR_BGR2GRAY)\n",
    "        temp_img_2 = np.zeros(shape=temp_img.shape)\n",
    "        temp_img_2[temp_img < 75] = 255\n",
    "        gray_img = cv2.cvtColor(image, cv2.COLOR_BGR2GRAY)\n",
    "        hsv_image = cv2.cvtColor(image, cv2.COLOR_BGR2HSV)\n",
    "        hsv_histogram = cv2.calcHist([hsv_image], [1], None, [256], [0, 256])\n",
    "        pixel_threshold = 0.05\n",
    "        percentage_of_saturation = np.sum(hsv_histogram[int(pixel_threshold * 255):-1]) / np.prod(hsv_image.shape[0:2])\n",
    "        if percentage_of_saturation < 0.9:\n",
    "            is_noisy = True\n",
    "        hsv_image = cv2.cvtColor(image, cv2.COLOR_BGR2HSV)\n",
    "\n",
    "        if is_noisy:\n",
    "            # gray_img = cv2.bilateralFilter(gray_img, 3, 75, 75)\n",
    "            circles = find_circles(grayscale=gray_img, is_noisy=is_noisy, other_img=image)\n",
    "        else:\n",
    "            circles = find_circles(grayscale=temp_img, is_noisy=is_noisy, other_img=image)\n",
    "\n",
    "        circle_mask_as_image = np.zeros(temp_img.shape)\n",
    "        if circles is not None:\n",
    "            if len(circles[0]) > 0:\n",
    "                for i in circles[0]:\n",
    "                    cv2.circle(circle_mask_as_image, center=(i[0], i[1]), radius=i[2], color=(255), thickness=-1)"
   ]
  }
 ],
 "metadata": {
  "kernelspec": {
   "display_name": "Python [conda env:CS6476] *",
   "language": "python",
   "name": "conda-env-CS6476-py"
  },
  "language_info": {
   "codemirror_mode": {
    "name": "ipython",
    "version": 3
   },
   "file_extension": ".py",
   "mimetype": "text/x-python",
   "name": "python",
   "nbconvert_exporter": "python",
   "pygments_lexer": "ipython3",
   "version": "3.7.9"
  }
 },
 "nbformat": 4,
 "nbformat_minor": 5
}
